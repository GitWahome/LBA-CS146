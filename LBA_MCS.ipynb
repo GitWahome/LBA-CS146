{
  "nbformat": 4,
  "nbformat_minor": 0,
  "metadata": {
    "colab": {
      "name": "LBA MCS.ipynb",
      "version": "0.3.2",
      "provenance": [],
      "collapsed_sections": [],
      "include_colab_link": true
    },
    "kernelspec": {
      "name": "python3",
      "display_name": "Python 3"
    }
  },
  "cells": [
    {
      "cell_type": "markdown",
      "metadata": {
        "id": "view-in-github",
        "colab_type": "text"
      },
      "source": [
        "<a href=\"https://colab.research.google.com/github/GitWahome/LBA-CS146/blob/master/LBA_MCS.ipynb\" target=\"_parent\"><img src=\"https://colab.research.google.com/assets/colab-badge.svg\" alt=\"Open In Colab\"/></a>"
      ]
    },
    {
      "metadata": {
        "id": "Afe36pRNDe3I",
        "colab_type": "text"
      },
      "cell_type": "markdown",
      "source": [
        "\n",
        "\n",
        "---\n",
        "ACCESS THE COLAB [THROUGH THIS LINK](https://colab.research.google.com/drive/1yhmSZ28bwlq1KLtpMMMYaE-sWov4Edx-?authuser=1)\n",
        "\n",
        "\n",
        "---\n",
        "\n",
        "\n",
        "IMPORTS"
      ]
    },
    {
      "metadata": {
        "id": "bxA8LsuQsjOy",
        "colab_type": "code",
        "colab": {}
      },
      "cell_type": "code",
      "source": [
        "%matplotlib inline\n",
        "from scipy import stats\n",
        "import numpy as np\n",
        "import pandas as pd\n",
        "import matplotlib.pyplot as plt\n",
        "import seaborn as sns; sns.set_context('notebook')\n",
        "#!pip install pystan\n",
        "import pystan\n",
        "import matplotlib.mlab as mlab\n",
        "import math\n",
        "from numpy.polynomial.polynomial import polyfit"
      ],
      "execution_count": 0,
      "outputs": []
    },
    {
      "metadata": {
        "id": "5LgKMqlTDhcr",
        "colab_type": "text"
      },
      "cell_type": "markdown",
      "source": [
        "\n",
        "\n",
        "\n",
        "---\n",
        "\n",
        "\n",
        "\n",
        "---\n",
        "\n",
        "# PRELIMINARY\n",
        "\n",
        "---\n",
        "\n",
        "\n",
        "\n",
        "---\n",
        "\n",
        "I realize that a lot of what is beign done is data cleaning and transformations. I have included utilities to help you make inference of  my work. Here, I also made this indx to help you jump to the different secitons that answer the prompts.\n",
        "\n",
        "Note:  I worked in collaboration with Sandie on the data cleaning and standardization. Inference and model fitting we individualized."
      ]
    },
    {
      "metadata": {
        "id": "zSF9uvEED2oO",
        "colab_type": "text"
      },
      "cell_type": "markdown",
      "source": [
        "I apologize for such a long document. I have included massive headers to allow you to scroll fast into different sections. Basic descriptions of what I did in those sections is also included. I hope this will make it more convenient for you when evaluating this."
      ]
    },
    {
      "metadata": {
        "id": "3jUPdDvXj2W3",
        "colab_type": "text"
      },
      "cell_type": "markdown",
      "source": [
        "Hello. The first step I took was doing some manual cleaning of the data. This entailed a lot of things including standardization of the brands, locations, entries like 'no brand' and 'NA' to a standard 'No Brand' etc. I have stratified the data by location, product brand, store brand among others. These are available in the different CSVs I will make use of in the rest of the analysis. For now, I have included a summary of the main sheet to give you a glimpse of how the data looks post cleaning."
      ]
    },
    {
      "metadata": {
        "id": "m1rKV_xNfMaZ",
        "colab_type": "code",
        "colab": {
          "base_uri": "https://localhost:8080/",
          "height": 335
        },
        "outputId": "a3efbad8-ad6b-4d69-b0fc-9367c6634a7f"
      },
      "cell_type": "code",
      "source": [
        "agg_responses = pd.read_csv(\"https://raw.githubusercontent.com/GitWahome/LBA-CS146/master/Copy%20of%20CS146%20LBA%20data%20gathering%20(Responses)%20-%20Form%20Responses%201.csv\")\n",
        "#print(agg_responses)\n",
        "agg_responses.head()"
      ],
      "execution_count": 246,
      "outputs": [
        {
          "output_type": "execute_result",
          "data": {
            "text/html": [
              "<div>\n",
              "<style scoped>\n",
              "    .dataframe tbody tr th:only-of-type {\n",
              "        vertical-align: middle;\n",
              "    }\n",
              "\n",
              "    .dataframe tbody tr th {\n",
              "        vertical-align: top;\n",
              "    }\n",
              "\n",
              "    .dataframe thead th {\n",
              "        text-align: right;\n",
              "    }\n",
              "</style>\n",
              "<table border=\"1\" class=\"dataframe\">\n",
              "  <thead>\n",
              "    <tr style=\"text-align: right;\">\n",
              "      <th></th>\n",
              "      <th>Locations</th>\n",
              "      <th>Grocery store Brand</th>\n",
              "      <th>Apple 1 Brand</th>\n",
              "      <th>Apple  1 price (€)</th>\n",
              "      <th>Apple  2 Brand</th>\n",
              "      <th>Apple  2 price (€)</th>\n",
              "      <th>Apple  3 Brand</th>\n",
              "      <th>Apple  price (€)</th>\n",
              "      <th>Banana 1 Brand</th>\n",
              "      <th>Banana 1 price (€)</th>\n",
              "      <th>...</th>\n",
              "      <th>Eggs 2 Brand</th>\n",
              "      <th>Eggs 2 price (€)</th>\n",
              "      <th>Eggs 3 Brand</th>\n",
              "      <th>Eggs 3 price (€)</th>\n",
              "      <th>Chicken Breasts 1 Brand</th>\n",
              "      <th>Chicken Breasts 1 price (€)</th>\n",
              "      <th>Chicken Breasts 2 Brand</th>\n",
              "      <th>Chicken Breasts 2 price (€)</th>\n",
              "      <th>Chicken Breasts 3 Brand</th>\n",
              "      <th>Chicken Breasts 3 price (€)</th>\n",
              "    </tr>\n",
              "  </thead>\n",
              "  <tbody>\n",
              "    <tr>\n",
              "      <th>0</th>\n",
              "      <td>Mitte</td>\n",
              "      <td>EDEKA</td>\n",
              "      <td>Granny Smith</td>\n",
              "      <td>1.99</td>\n",
              "      <td>Golden Deli</td>\n",
              "      <td>1.99</td>\n",
              "      <td>Braeburn</td>\n",
              "      <td>1.99</td>\n",
              "      <td>Bio</td>\n",
              "      <td>1.99</td>\n",
              "      <td>...</td>\n",
              "      <td>Gut &amp; Gunstig</td>\n",
              "      <td>2.03</td>\n",
              "      <td>EDEKA</td>\n",
              "      <td>4.19</td>\n",
              "      <td>Le Gaulois</td>\n",
              "      <td>13.90</td>\n",
              "      <td>Friki</td>\n",
              "      <td>12.99</td>\n",
              "      <td>NaN</td>\n",
              "      <td>NaN</td>\n",
              "    </tr>\n",
              "    <tr>\n",
              "      <th>1</th>\n",
              "      <td>Friedrichshain</td>\n",
              "      <td>EDEKA</td>\n",
              "      <td>Bio</td>\n",
              "      <td>2.99</td>\n",
              "      <td>Kanzi</td>\n",
              "      <td>1.99</td>\n",
              "      <td>No Brand</td>\n",
              "      <td>1.99</td>\n",
              "      <td>Bio</td>\n",
              "      <td>1.99</td>\n",
              "      <td>...</td>\n",
              "      <td>EDEKA</td>\n",
              "      <td>5.98</td>\n",
              "      <td>Alnatura</td>\n",
              "      <td>6.58</td>\n",
              "      <td>Gut&amp;Gunstig</td>\n",
              "      <td>6.48</td>\n",
              "      <td>Friki</td>\n",
              "      <td>8.90</td>\n",
              "      <td>Biofino</td>\n",
              "      <td>25.9</td>\n",
              "    </tr>\n",
              "    <tr>\n",
              "      <th>2</th>\n",
              "      <td>Mitte</td>\n",
              "      <td>ALDI</td>\n",
              "      <td>Pink Lady</td>\n",
              "      <td>2.99</td>\n",
              "      <td>No Brand</td>\n",
              "      <td>1.79</td>\n",
              "      <td>Etikett</td>\n",
              "      <td>1.39</td>\n",
              "      <td>Bio</td>\n",
              "      <td>1.29</td>\n",
              "      <td>...</td>\n",
              "      <td>No Brand</td>\n",
              "      <td>1.99</td>\n",
              "      <td>NaN</td>\n",
              "      <td>NaN</td>\n",
              "      <td>NaN</td>\n",
              "      <td>NaN</td>\n",
              "      <td>NaN</td>\n",
              "      <td>NaN</td>\n",
              "      <td>NaN</td>\n",
              "      <td>NaN</td>\n",
              "    </tr>\n",
              "    <tr>\n",
              "      <th>3</th>\n",
              "      <td>Neukölln</td>\n",
              "      <td>Lidl</td>\n",
              "      <td>Apfel Rot</td>\n",
              "      <td>2.99</td>\n",
              "      <td>Apfel Rot</td>\n",
              "      <td>1.99</td>\n",
              "      <td>Pink Lady</td>\n",
              "      <td>2.49</td>\n",
              "      <td>No Brand</td>\n",
              "      <td>0.99</td>\n",
              "      <td>...</td>\n",
              "      <td>aus Bodenhaltung</td>\n",
              "      <td>1.98</td>\n",
              "      <td>Frusche Eier</td>\n",
              "      <td>1.69</td>\n",
              "      <td>Landjunker</td>\n",
              "      <td>6.29</td>\n",
              "      <td>NaN</td>\n",
              "      <td>NaN</td>\n",
              "      <td>NaN</td>\n",
              "      <td>NaN</td>\n",
              "    </tr>\n",
              "    <tr>\n",
              "      <th>4</th>\n",
              "      <td>Mitte</td>\n",
              "      <td>REWE</td>\n",
              "      <td>Talapfel Gale</td>\n",
              "      <td>1.95</td>\n",
              "      <td>GutBio</td>\n",
              "      <td>3.10</td>\n",
              "      <td>Snackapfel</td>\n",
              "      <td>1.90</td>\n",
              "      <td>REWE</td>\n",
              "      <td>1.65</td>\n",
              "      <td>...</td>\n",
              "      <td>Bodenhalttung</td>\n",
              "      <td>3.38</td>\n",
              "      <td>Freil weiss</td>\n",
              "      <td>2.82</td>\n",
              "      <td>REWE</td>\n",
              "      <td>8.67</td>\n",
              "      <td>GutBio</td>\n",
              "      <td>8.79</td>\n",
              "      <td>NaN</td>\n",
              "      <td>NaN</td>\n",
              "    </tr>\n",
              "  </tbody>\n",
              "</table>\n",
              "<p>5 rows × 62 columns</p>\n",
              "</div>"
            ],
            "text/plain": [
              "        Locations Grocery store Brand  Apple 1 Brand  Apple  1 price (€)  \\\n",
              "0           Mitte               EDEKA  Granny Smith                 1.99   \n",
              "1  Friedrichshain               EDEKA            Bio                2.99   \n",
              "2           Mitte                ALDI      Pink Lady                2.99   \n",
              "3        Neukölln                Lidl     Apfel Rot                 2.99   \n",
              "4           Mitte                REWE  Talapfel Gale                1.95   \n",
              "\n",
              "  Apple  2 Brand  Apple  2 price (€) Apple  3 Brand  Apple  price (€)  \\\n",
              "0    Golden Deli                1.99       Braeburn              1.99   \n",
              "1          Kanzi                1.99       No Brand              1.99   \n",
              "2       No Brand                1.79        Etikett              1.39   \n",
              "3      Apfel Rot                1.99     Pink Lady               2.49   \n",
              "4         GutBio                3.10     Snackapfel              1.90   \n",
              "\n",
              "  Banana 1 Brand  Banana 1 price (€)             ...               \\\n",
              "0            Bio                1.99             ...                \n",
              "1            Bio                1.99             ...                \n",
              "2            Bio                1.29             ...                \n",
              "3       No Brand                0.99             ...                \n",
              "4           REWE                1.65             ...                \n",
              "\n",
              "       Eggs 2 Brand  Eggs 2 price (€)  Eggs 3 Brand  Eggs 3 price (€)  \\\n",
              "0     Gut & Gunstig              2.03         EDEKA              4.19   \n",
              "1             EDEKA              5.98      Alnatura              6.58   \n",
              "2          No Brand              1.99           NaN               NaN   \n",
              "3  aus Bodenhaltung              1.98  Frusche Eier              1.69   \n",
              "4     Bodenhalttung              3.38   Freil weiss              2.82   \n",
              "\n",
              "  Chicken Breasts 1 Brand  Chicken Breasts 1 price (€)  \\\n",
              "0              Le Gaulois                        13.90   \n",
              "1             Gut&Gunstig                         6.48   \n",
              "2                     NaN                          NaN   \n",
              "3              Landjunker                         6.29   \n",
              "4                    REWE                         8.67   \n",
              "\n",
              "  Chicken Breasts 2 Brand  Chicken Breasts 2 price (€)  \\\n",
              "0                   Friki                        12.99   \n",
              "1                   Friki                         8.90   \n",
              "2                     NaN                          NaN   \n",
              "3                     NaN                          NaN   \n",
              "4                  GutBio                         8.79   \n",
              "\n",
              "  Chicken Breasts 3 Brand  Chicken Breasts 3 price (€)  \n",
              "0                     NaN                          NaN  \n",
              "1                 Biofino                         25.9  \n",
              "2                     NaN                          NaN  \n",
              "3                     NaN                          NaN  \n",
              "4                     NaN                          NaN  \n",
              "\n",
              "[5 rows x 62 columns]"
            ]
          },
          "metadata": {
            "tags": []
          },
          "execution_count": 246
        }
      ]
    },
    {
      "metadata": {
        "id": "jbWCn4nJzOZu",
        "colab_type": "text"
      },
      "cell_type": "markdown",
      "source": [
        "\n",
        "\n",
        "\n",
        "---\n",
        "\n",
        "\n",
        "\n",
        "---\n",
        "\n",
        "# DATA TRANSFORMATION: STACKING AND STRATIFICATION BY PRODUCT\n",
        "\n",
        "---\n",
        "\n",
        "\n",
        "\n",
        "---\n",
        "\n",
        "\n",
        "For convenience, I separated the full dataset above by product and then amalgamated the prices keeping track of the respective brands, locations and Store Brand in one column. This  made it convenient for analysis."
      ]
    },
    {
      "metadata": {
        "id": "5toRriz4sreJ",
        "colab_type": "code",
        "colab": {}
      },
      "cell_type": "code",
      "source": [
        "##Stratification\n",
        "Columns = list(agg_responses.columns.values)\n",
        "apples =  agg_responses[Columns[:2]+Columns[2:8]]\n",
        "bananas = agg_responses[Columns[:2]+Columns[8:14]]\n",
        "Tomatoes = agg_responses[Columns[:2]+Columns[14:20]]\n",
        "Potatoes = agg_responses[Columns[:2]+Columns[20:26]]\n",
        "Flour = agg_responses[Columns[:2]+Columns[26:32]]\n",
        "Rice = agg_responses[Columns[:2]+Columns[32:38]]\n",
        "Milk = agg_responses[Columns[:2]+Columns[38:44]]\n",
        "Butter = agg_responses[Columns[:2]+Columns[44:50]]\n",
        "Eggs = agg_responses[Columns[:2]+Columns[50:56]]\n",
        "Chicken_Breasts = agg_responses[Columns[:2]+Columns[56:62]]"
      ],
      "execution_count": 0,
      "outputs": []
    },
    {
      "metadata": {
        "id": "0tCsGvauszrK",
        "colab_type": "code",
        "colab": {
          "base_uri": "https://localhost:8080/",
          "height": 204
        },
        "outputId": "b3ba5008-199a-400c-ead9-963e93d7040e"
      },
      "cell_type": "code",
      "source": [
        "#Stacking\n",
        "Columns = list(apples.columns.values)\n",
        "applesDf =pd.DataFrame({\n",
        "    \"Prices\":list(apples[Columns[3]])+list(apples[Columns[5]])+list(apples[Columns[7]]),\n",
        "    \"ProductBrand\": list(apples[Columns[2]])+list(apples[Columns[4]])+list(apples[Columns[6]]),\n",
        "    \"Store Brand\":list(apples[Columns[1]])+list(apples[Columns[1]])+list(apples[Columns[1]]),\n",
        "    \"Geolocation\":list(apples[Columns[0]])+list(apples[Columns[0]])+list(apples[Columns[0]])\n",
        "})\n",
        "Columns = list(bananas.columns.values)\n",
        "bananasDf=pd.DataFrame({\n",
        "    \"Prices\":list(bananas[Columns[3]])+list(bananas[Columns[5]])+list(bananas[Columns[7]]),\n",
        "    \"ProductBrand\": list(bananas[Columns[2]])+list(bananas[Columns[4]])+list(bananas[Columns[6]]),\n",
        "    \"Store Brand\":list(bananas[Columns[1]])+list(bananas[Columns[1]])+list(bananas[Columns[1]]),\n",
        "    \"Geolocation\":list(bananas[Columns[0]])+list(bananas[Columns[0]])+list(bananas[Columns[0]])\n",
        "})\n",
        "Columns = list(Tomatoes.columns.values)\n",
        "tomatoesDf=pd.DataFrame({\n",
        "    \"Prices\":list(Tomatoes[Columns[3]])+list(Tomatoes[Columns[5]])+list(Tomatoes[Columns[7]]),\n",
        "    \"ProductBrand\": list(Tomatoes[Columns[2]])+list(Tomatoes[Columns[4]])+list(Tomatoes[Columns[6]]),\n",
        "    \"Store Brand\":list(Tomatoes[Columns[1]])+list(Tomatoes[Columns[1]])+list(Tomatoes[Columns[1]]),\n",
        "    \"Geolocation\":list(Tomatoes[Columns[0]])+list(Tomatoes[Columns[0]])+list(Tomatoes[Columns[0]])\n",
        "})\n",
        "Columns = list(Potatoes.columns.values)\n",
        "potatoesDf=pd.DataFrame({\n",
        "    \"Prices\":list(Potatoes[Columns[3]])+list(Potatoes[Columns[5]])+list(Potatoes[Columns[7]]),\n",
        "    \"ProductBrand\": list(Potatoes[Columns[2]])+list(Potatoes[Columns[4]])+list(Potatoes[Columns[6]]),\n",
        "    \"Store Brand\":list(Potatoes[Columns[1]])+list(Potatoes[Columns[1]])+list(Potatoes[Columns[1]]),\n",
        "    \"Geolocation\":list(Potatoes[Columns[0]])+list(Potatoes[Columns[0]])+list(Potatoes[Columns[0]])\n",
        "})\n",
        "Columns = list(Flour.columns.values)\n",
        "flourDf=pd.DataFrame({\n",
        "    \"Prices\":list(Flour[Columns[3]])+list(Flour[Columns[5]])+list(Flour[Columns[7]]),\n",
        "    \"ProductBrand\": list(Flour[Columns[2]])+list(Flour[Columns[4]])+list(Flour[Columns[6]]),\n",
        "    \"Store Brand\":list(Flour[Columns[1]])+list(Flour[Columns[1]])+list(Flour[Columns[1]]),\n",
        "    \"Geolocation\":list(Flour[Columns[0]])+list(Flour[Columns[0]])+list(Flour[Columns[0]])\n",
        "})\n",
        "Columns = list(Rice.columns.values)\n",
        "riceDf=pd.DataFrame({\n",
        "    \"Prices\":list(Rice[Columns[3]])+list(Rice[Columns[5]])+list(Rice[Columns[7]]),\n",
        "    \"ProductBrand\": list(Rice[Columns[2]])+list(Rice[Columns[4]])+list(Rice[Columns[6]]),\n",
        "    \"Store Brand\":list(Rice[Columns[1]])+list(Rice[Columns[1]])+list(Rice[Columns[1]]),\n",
        "    \"Geolocation\":list(Rice[Columns[0]])+list(Rice[Columns[0]])+list(Rice[Columns[0]])\n",
        "})\n",
        "Columns = list(Milk.columns.values)\n",
        "milkDf=pd.DataFrame({\n",
        "    \"Prices\":list(Milk[Columns[3]])+list(Milk[Columns[5]])+list(Milk[Columns[7]]),\n",
        "    \"ProductBrand\": list(Milk[Columns[2]])+list(Milk[Columns[4]])+list(Milk[Columns[6]]),\n",
        "    \"Store Brand\":list(Milk[Columns[1]])+list(Milk[Columns[1]])+list(Milk[Columns[1]]),\n",
        "    \"Geolocation\":list(Milk[Columns[0]])+list(Milk[Columns[0]])+list(Milk[Columns[0]])\n",
        "})\n",
        "\n",
        "Columns = list(Butter.columns.values)\n",
        "butterDf=pd.DataFrame({\n",
        "    \"Prices\":list(Butter[Columns[3]])+list(Butter[Columns[5]])+list(Butter[Columns[7]]),\n",
        "    \"ProductBrand\": list(Butter[Columns[2]])+list(Butter[Columns[4]])+list(Butter[Columns[6]]),\n",
        "    \"Store Brand\":list(Butter[Columns[1]])+list(Butter[Columns[1]])+list(Butter[Columns[1]]),\n",
        "    \"Geolocation\":list(Butter[Columns[0]])+list(Butter[Columns[0]])+list(Butter[Columns[0]])\n",
        "})\n",
        "\n",
        "Columns = list(Eggs.columns.values)\n",
        "eggsDf=pd.DataFrame({\n",
        "    \"Prices\":list(Eggs[Columns[3]])+list(Eggs[Columns[5]])+list(Eggs[Columns[7]]),\n",
        "    \"ProductBrand\": list(Eggs[Columns[2]])+list(Eggs[Columns[4]])+list(Eggs[Columns[6]]),\n",
        "    \"Store Brand\":list(Eggs[Columns[1]])+list(Eggs[Columns[1]])+list(Eggs[Columns[1]]),\n",
        "    \"Geolocation\":list(Eggs[Columns[0]])+list(Eggs[Columns[0]])+list(Eggs[Columns[0]])\n",
        "})\n",
        "Columns = list(Chicken_Breasts.columns.values)\n",
        "chicken_breastsDf=pd.DataFrame({\n",
        "    \"Prices\":list(Chicken_Breasts[Columns[3]])+list(Chicken_Breasts[Columns[5]])+list(Chicken_Breasts[Columns[7]]),\n",
        "    \"ProductBrand\": list(Chicken_Breasts[Columns[2]])+list(Chicken_Breasts[Columns[4]])+list(Chicken_Breasts[Columns[6]]),\n",
        "    \"Store Brand\":list(Chicken_Breasts[Columns[1]])+list(Chicken_Breasts[Columns[1]])+list(Chicken_Breasts[Columns[1]]),\n",
        "    \"Geolocation\":list(Chicken_Breasts[Columns[0]])+list(Chicken_Breasts[Columns[0]])+list(Chicken_Breasts[Columns[0]])\n",
        "})\n",
        "\n",
        "applesDf['ProductBrand'] = (applesDf['ProductBrand'] == \"No Brand\").astype(int)\n",
        "bananasDf['ProductBrand'] = (bananasDf['ProductBrand'] == \"No Brand\").astype(int)\n",
        "tomatoesDf['ProductBrand'] = (tomatoesDf['ProductBrand'] == \"No Brand\").astype(int)\n",
        "potatoesDf['ProductBrand'] = (potatoesDf['ProductBrand'] == \"No Brand\").astype(int)\n",
        "flourDf['ProductBrand'] = (flourDf['ProductBrand'] == \"No Brand\").astype(int)\n",
        "riceDf['ProductBrand'] = (riceDf['ProductBrand'] == \"No Brand\").astype(int)\n",
        "milkDf['ProductBrand'] = (milkDf['ProductBrand'] == \"No Brand\").astype(int)\n",
        "butterDf['ProductBrand'] = (butterDf['ProductBrand'] == \"No Brand\").astype(int)\n",
        "eggsDf['ProductBrand'] = (eggsDf['ProductBrand'] == \"No Brand\").astype(int)\n",
        "chicken_breastsDf['ProductBrand'] = (chicken_breastsDf['ProductBrand'] == \"No Brand\").astype(int)\n",
        "colCriteria = {\n",
        "\"Stores\":list(set(applesDf[\"Store Brand\"])),\n",
        "\"Products\":set([\"No Brand\", \"Branded\"]),\n",
        "\"Location\":set(applesDf[\"Geolocation\"])\n",
        "}\n",
        "refCategorizer = {\"Store Brand\":\"Stores\",\"Geolocation\":\"Location\",\"ProductBrand\":\"Products\"}\n",
        "applesDf.head()"
      ],
      "execution_count": 248,
      "outputs": [
        {
          "output_type": "execute_result",
          "data": {
            "text/html": [
              "<div>\n",
              "<style scoped>\n",
              "    .dataframe tbody tr th:only-of-type {\n",
              "        vertical-align: middle;\n",
              "    }\n",
              "\n",
              "    .dataframe tbody tr th {\n",
              "        vertical-align: top;\n",
              "    }\n",
              "\n",
              "    .dataframe thead th {\n",
              "        text-align: right;\n",
              "    }\n",
              "</style>\n",
              "<table border=\"1\" class=\"dataframe\">\n",
              "  <thead>\n",
              "    <tr style=\"text-align: right;\">\n",
              "      <th></th>\n",
              "      <th>Geolocation</th>\n",
              "      <th>Prices</th>\n",
              "      <th>ProductBrand</th>\n",
              "      <th>Store Brand</th>\n",
              "    </tr>\n",
              "  </thead>\n",
              "  <tbody>\n",
              "    <tr>\n",
              "      <th>0</th>\n",
              "      <td>Mitte</td>\n",
              "      <td>1.99</td>\n",
              "      <td>0</td>\n",
              "      <td>EDEKA</td>\n",
              "    </tr>\n",
              "    <tr>\n",
              "      <th>1</th>\n",
              "      <td>Friedrichshain</td>\n",
              "      <td>2.99</td>\n",
              "      <td>0</td>\n",
              "      <td>EDEKA</td>\n",
              "    </tr>\n",
              "    <tr>\n",
              "      <th>2</th>\n",
              "      <td>Mitte</td>\n",
              "      <td>2.99</td>\n",
              "      <td>0</td>\n",
              "      <td>ALDI</td>\n",
              "    </tr>\n",
              "    <tr>\n",
              "      <th>3</th>\n",
              "      <td>Neukölln</td>\n",
              "      <td>2.99</td>\n",
              "      <td>0</td>\n",
              "      <td>Lidl</td>\n",
              "    </tr>\n",
              "    <tr>\n",
              "      <th>4</th>\n",
              "      <td>Mitte</td>\n",
              "      <td>1.95</td>\n",
              "      <td>0</td>\n",
              "      <td>REWE</td>\n",
              "    </tr>\n",
              "  </tbody>\n",
              "</table>\n",
              "</div>"
            ],
            "text/plain": [
              "      Geolocation  Prices  ProductBrand Store Brand\n",
              "0           Mitte    1.99             0       EDEKA\n",
              "1  Friedrichshain    2.99             0       EDEKA\n",
              "2           Mitte    2.99             0        ALDI\n",
              "3        Neukölln    2.99             0        Lidl\n",
              "4           Mitte    1.95             0        REWE"
            ]
          },
          "metadata": {
            "tags": []
          },
          "execution_count": 248
        }
      ]
    },
    {
      "metadata": {
        "id": "xqlnaFWduSTN",
        "colab_type": "text"
      },
      "cell_type": "markdown",
      "source": [
        "\n",
        "\n",
        "\n",
        "---\n",
        "\n",
        "\n",
        "\n",
        "---\n",
        "\n",
        "# REPLACING STRINGS WITH INTEGERS CATEGORIES\n",
        "\n",
        "---\n",
        "\n",
        "\n",
        "\n",
        "---\n",
        "\n",
        "Working with text is a bit hectic. I thus came up with numbers to serve as categorical references as per the colCriteria above. "
      ]
    },
    {
      "metadata": {
        "id": "gL4blIuquP3m",
        "colab_type": "code",
        "colab": {}
      },
      "cell_type": "code",
      "source": [
        "def categories(factor, dataframe):   \n",
        "  if factor is not 'Prices':\n",
        "    factorlist =dict([(list(set(dataframe[factor]))[i], i+1)  \n",
        "                   for i in range(len(set(dataframe[factor])))])\n",
        "  return factorlist\n",
        "def categoriesReplace(dataFrame):\n",
        "  Columns = list(dataFrame.columns.values)\n",
        "  for factorCol in Columns:\n",
        "    if factorCol is not 'Prices':\n",
        "      categDict = categories(factorCol, dataFrame)\n",
        "      dataFrame[factorCol] = dataFrame[factorCol].map(categDict)\n",
        "      #dataFrame[factorCol] = pd.Categorical(dataFrame[factorCol])\n",
        "  return dataFrame"
      ],
      "execution_count": 0,
      "outputs": []
    },
    {
      "metadata": {
        "id": "6-yxK568Mxdo",
        "colab_type": "text"
      },
      "cell_type": "markdown",
      "source": [
        "Having developed a mapping approach to the election data, I now need to transform it to a manner similar to the class code to facilitate reuse.\n",
        "\n",
        "My first step was to create a stratifier to separate the data by factor. \n"
      ]
    },
    {
      "metadata": {
        "id": "3R0CVcEJYCc0",
        "colab_type": "text"
      },
      "cell_type": "markdown",
      "source": [
        "\n",
        "\n",
        "\n",
        "**Now here is where the fun stuff starts. For a start, this assignment was pretty much the diamond in my intellectual world. There is nothing I have encountered quite as hard as this. I am not sure if the approach I took is correct, but I will try and explain my thought process and justify my approach to the best of my ability. Hopefully it makes sense to you. Thank you.**"
      ]
    },
    {
      "metadata": {
        "id": "53i7Epz7YkGt",
        "colab_type": "text"
      },
      "cell_type": "markdown",
      "source": [
        "The price of each product was what the whole assignment tried to infer. While this was an oversimplification, the price was dictated by the following factors: \n",
        "Product brand, store brand and geographical location.\n",
        "\n",
        "1.   Product Brand\n",
        "2.   Store Brand \n",
        "3.   Geographic Location.\n",
        "\n",
        "\n",
        "\n",
        "\n",
        "Having stratified the data by product, we can use this as our data. My assumption is that this price data is normally distributed per product per factor. I included a plotter but it is turned off by default to make things neater \n",
        "\n",
        "To find the multipliers, I would need to find the distribution of the prices by the various factors above.  I need to plot a distribution of data by product brand, store brand, geolocation.\n",
        "\n",
        "This is quite a daunting task, or maybe I am overthinking it, but I will roll with it. So here is what I will do, I will start with the Store Brand. These are few. I want to use very general functions to maximize code reusability. As such, I will automate the fetching of the unique set of the data groups be it Store Brand,  Product Brand, Prices and Geolocation. I will then retrieve the matching product prices for each of the groups.\n",
        "\n"
      ]
    },
    {
      "metadata": {
        "id": "qdh8o4gA5YKL",
        "colab_type": "code",
        "colab": {}
      },
      "cell_type": "code",
      "source": [
        "\"\"\"\n",
        "The function below will print out how many unique factors there are. \n",
        "The most daunting of them was the Product Brands. \n",
        "Things like store Brands were easy to deal with since we had only 5 options or so. \n",
        "It prints out the length of the unique factor set and the various prices under the factor.\n",
        "It also plots the prices for non empty datasets.\n",
        "I assumed these to be normal distributions due to the nature of pricing. \n",
        "So I found the mean and variance and plotted them.\n",
        "It returns a dictionary of the prices as per the unique factors.\n",
        "\n",
        "I never stratified the brands in the case of product but I will do so in my analysis later\n",
        "\"\"\"\n",
        "#The plots can clutter the results so I set them to False by default.\n",
        "#You can set plot to true to see the normal plots \n",
        "\n",
        "def uniqueFactor(FactorName, dataFrame, plot = False):\n",
        "    uniqueCol= dataFrame[FactorName].unique().tolist()\n",
        "    priceByFactor = {}\n",
        "    if plot:\n",
        "      print(\"There are a total of {} different values under the column {}\\n\".format(len(uniqueCol), FactorName))\n",
        "      print(\"These are {}\\n\".format(uniqueCol))\n",
        "      print(\"The plot below illustrates some of their assumed normal distributions\")\n",
        "    for uni in uniqueCol:\n",
        "      data = dataFrame.loc[dataFrame[FactorName] == uni]#[[\"Prices\", FactorName, \"Geolocation\", \"S\"]]\n",
        "      priceByFactor[uni] = data\n",
        "      if plot:\n",
        "        if len(data[\"Prices\"]) != 0:\n",
        "          try:\n",
        "            mu = np.mean(data[\"Prices\"])\n",
        "            variance = np.var(data[\"Prices\"])\n",
        "            sigma = math.sqrt(variance)\n",
        "            x = np.linspace(mu - 3*sigma, mu + 3*sigma, 100)\n",
        "            plt.title(\"Plot of prices for the various factors under {}\".format(FactorName))\n",
        "            plt.legend(loc='upper left')\n",
        "            plt.plot(x,mlab.normpdf(x, mu, sigma), label = list(colCriteria[refCategorizer[FactorName]])[uni-1])\n",
        "          except:\n",
        "            pass\n",
        "    if plot:\n",
        "      plt.show()\n",
        "    return priceByFactor\n"
      ],
      "execution_count": 0,
      "outputs": []
    },
    {
      "metadata": {
        "id": "QV0ecb6gQZT1",
        "colab_type": "text"
      },
      "cell_type": "markdown",
      "source": [
        "Now, here is an example of what the function above outputs\n",
        "\n",
        "#Normal plots\n",
        "\n",
        "I did not print the normals for each of the products by factor. I did this only for Apples. This can be toggled on and off by setting the plot argument of my unique factor to True. It also prints some metadata if you want to know more about what is going on."
      ]
    },
    {
      "metadata": {
        "id": "trJh-J-yDn5L",
        "colab_type": "code",
        "colab": {
          "base_uri": "https://localhost:8080/",
          "height": 1392
        },
        "outputId": "21e64272-0994-48ba-b3ad-7f2ac3da639d"
      },
      "cell_type": "code",
      "source": [
        "categApples = applesDf \n",
        "categApples = categoriesReplace(categApples)\n",
        "categApples.head()\n",
        "\n",
        "geo_apples = uniqueFactor(\"Geolocation\", categApples, plot=True)\n",
        "stores_apples = uniqueFactor(\"Store Brand\", categApples,plot=True)\n",
        "prod_apples = uniqueFactor(\"ProductBrand\", categApples,plot=True)\n"
      ],
      "execution_count": 251,
      "outputs": [
        {
          "output_type": "stream",
          "text": [
            "WARNING:matplotlib.legend:No handles with labels found to put in legend.\n"
          ],
          "name": "stderr"
        },
        {
          "output_type": "stream",
          "text": [
            "There are a total of 9 different values under the column Geolocation\n",
            "\n",
            "These are [3, 1, 9, 8, 5, 7, 4, 6, 2]\n",
            "\n",
            "The plot below illustrates some of their assumed normal distributions\n"
          ],
          "name": "stdout"
        },
        {
          "output_type": "stream",
          "text": [
            "/usr/local/lib/python3.6/dist-packages/matplotlib/mlab.py:1544: RuntimeWarning: divide by zero encountered in double_scalars\n",
            "  return 1./(np.sqrt(2*np.pi)*sigma)*np.exp(-0.5 * (1./sigma*(x - mu))**2)\n"
          ],
          "name": "stderr"
        },
        {
          "output_type": "display_data",
          "data": {
            "image/png": "[encoded data removed]",
            "text/plain": [
              "<matplotlib.figure.Figure at 0x7f93927462e8>"
            ]
          },
          "metadata": {
            "tags": []
          }
        },
        {
          "output_type": "stream",
          "text": [
            "WARNING:matplotlib.legend:No handles with labels found to put in legend.\n"
          ],
          "name": "stderr"
        },
        {
          "output_type": "stream",
          "text": [
            "There are a total of 4 different values under the column Store Brand\n",
            "\n",
            "These are [1, 3, 2, 4]\n",
            "\n",
            "The plot below illustrates some of their assumed normal distributions\n"
          ],
          "name": "stdout"
        },
        {
          "output_type": "display_data",
          "data": {
            "image/png": "[encoded data removed]",
            "text/plain": [
              "<matplotlib.figure.Figure at 0x7f9390e82e10>"
            ]
          },
          "metadata": {
            "tags": []
          }
        },
        {
          "output_type": "stream",
          "text": [
            "WARNING:matplotlib.legend:No handles with labels found to put in legend.\n"
          ],
          "name": "stderr"
        },
        {
          "output_type": "stream",
          "text": [
            "There are a total of 2 different values under the column ProductBrand\n",
            "\n",
            "These are [1, 2]\n",
            "\n",
            "The plot below illustrates some of their assumed normal distributions\n"
          ],
          "name": "stdout"
        },
        {
          "output_type": "display_data",
          "data": {
            "image/png": "[encoded data removed]",
            "text/plain": [
              "<matplotlib.figure.Figure at 0x7f939067cba8>"
            ]
          },
          "metadata": {
            "tags": []
          }
        }
      ]
    },
    {
      "metadata": {
        "id": "Si7OLv4sQ2FH",
        "colab_type": "text"
      },
      "cell_type": "markdown",
      "source": [
        "The output above may not seem like much but it makes things extremely convenient in that we can retrieve the individual datasets per product per factor as stated this way:\n",
        "\n",
        "Say we want all the prices of apples from LIDL, store 3 in our case from the categorizerdictionary: "
      ]
    },
    {
      "metadata": {
        "id": "blshixE6Zu_y",
        "colab_type": "code",
        "colab": {
          "base_uri": "https://localhost:8080/",
          "height": 204
        },
        "outputId": "9d604f84-112c-49fc-fd26-4026a9b40e82"
      },
      "cell_type": "code",
      "source": [
        "stores_apples[3].head()"
      ],
      "execution_count": 252,
      "outputs": [
        {
          "output_type": "execute_result",
          "data": {
            "text/html": [
              "<div>\n",
              "<style scoped>\n",
              "    .dataframe tbody tr th:only-of-type {\n",
              "        vertical-align: middle;\n",
              "    }\n",
              "\n",
              "    .dataframe tbody tr th {\n",
              "        vertical-align: top;\n",
              "    }\n",
              "\n",
              "    .dataframe thead th {\n",
              "        text-align: right;\n",
              "    }\n",
              "</style>\n",
              "<table border=\"1\" class=\"dataframe\">\n",
              "  <thead>\n",
              "    <tr style=\"text-align: right;\">\n",
              "      <th></th>\n",
              "      <th>Geolocation</th>\n",
              "      <th>Prices</th>\n",
              "      <th>ProductBrand</th>\n",
              "      <th>Store Brand</th>\n",
              "    </tr>\n",
              "  </thead>\n",
              "  <tbody>\n",
              "    <tr>\n",
              "      <th>2</th>\n",
              "      <td>3</td>\n",
              "      <td>2.99</td>\n",
              "      <td>1</td>\n",
              "      <td>3</td>\n",
              "    </tr>\n",
              "    <tr>\n",
              "      <th>8</th>\n",
              "      <td>5</td>\n",
              "      <td>3.74</td>\n",
              "      <td>1</td>\n",
              "      <td>3</td>\n",
              "    </tr>\n",
              "    <tr>\n",
              "      <th>9</th>\n",
              "      <td>3</td>\n",
              "      <td>0.79</td>\n",
              "      <td>1</td>\n",
              "      <td>3</td>\n",
              "    </tr>\n",
              "    <tr>\n",
              "      <th>10</th>\n",
              "      <td>5</td>\n",
              "      <td>1.79</td>\n",
              "      <td>1</td>\n",
              "      <td>3</td>\n",
              "    </tr>\n",
              "    <tr>\n",
              "      <th>11</th>\n",
              "      <td>7</td>\n",
              "      <td>1.89</td>\n",
              "      <td>1</td>\n",
              "      <td>3</td>\n",
              "    </tr>\n",
              "  </tbody>\n",
              "</table>\n",
              "</div>"
            ],
            "text/plain": [
              "    Geolocation  Prices  ProductBrand  Store Brand\n",
              "2             3    2.99             1            3\n",
              "8             5    3.74             1            3\n",
              "9             3    0.79             1            3\n",
              "10            5    1.79             1            3\n",
              "11            7    1.89             1            3"
            ]
          },
          "metadata": {
            "tags": []
          },
          "execution_count": 252
        }
      ]
    },
    {
      "metadata": {
        "id": "7yHRcue7Z4dv",
        "colab_type": "text"
      },
      "cell_type": "markdown",
      "source": [
        "Now let us structure our data as surves a survey .  This can be achieved by finding the average price for each store. "
      ]
    },
    {
      "metadata": {
        "id": "jehgKeoaEmHr",
        "colab_type": "code",
        "colab": {}
      },
      "cell_type": "code",
      "source": [
        "categBananas = bananasDf \n",
        "categBananas = categoriesReplace(categBananas)\n",
        "\n",
        "geo_bananas = uniqueFactor(\"Geolocation\", categBananas)\n",
        "stores_bananas = uniqueFactor(\"Store Brand\", categBananas)\n",
        "prod_bananas = uniqueFactor(\"ProductBrand\", categBananas)"
      ],
      "execution_count": 0,
      "outputs": []
    },
    {
      "metadata": {
        "id": "ueHGhg_1GHCy",
        "colab_type": "code",
        "colab": {}
      },
      "cell_type": "code",
      "source": [
        "categTomatoes = tomatoesDf \n",
        "categTomatoes = categoriesReplace(categTomatoes)\n",
        "\n",
        "geo_tomatoes = uniqueFactor(\"Geolocation\", categTomatoes)\n",
        "stores_tomatoes = uniqueFactor(\"Store Brand\", categTomatoes)\n",
        "prod_tomatoes = uniqueFactor(\"ProductBrand\", categTomatoes)"
      ],
      "execution_count": 0,
      "outputs": []
    },
    {
      "metadata": {
        "id": "D0kHim3kGHI0",
        "colab_type": "code",
        "colab": {}
      },
      "cell_type": "code",
      "source": [
        "categPotatoes = potatoesDf \n",
        "categPotatoes = categoriesReplace(categPotatoes)\n",
        "\n",
        "geo_potatoes = uniqueFactor(\"Geolocation\", categPotatoes)\n",
        "stores_potatoes = uniqueFactor(\"Store Brand\", categPotatoes)\n",
        "prod_potatoes = uniqueFactor(\"ProductBrand\", categPotatoes)\n"
      ],
      "execution_count": 0,
      "outputs": []
    },
    {
      "metadata": {
        "id": "QIaO_ze1GHNT",
        "colab_type": "code",
        "colab": {}
      },
      "cell_type": "code",
      "source": [
        "categFlour = flourDf \n",
        "categFlour = categoriesReplace(categFlour)\n",
        "\n",
        "geo_flour = uniqueFactor(\"Geolocation\", categFlour)\n",
        "stores_flour = uniqueFactor(\"Store Brand\", categFlour)\n",
        "prod_flour = uniqueFactor(\"ProductBrand\", categFlour)\n"
      ],
      "execution_count": 0,
      "outputs": []
    },
    {
      "metadata": {
        "id": "L1IXr8SbGHS0",
        "colab_type": "code",
        "colab": {}
      },
      "cell_type": "code",
      "source": [
        "categRice = riceDf \n",
        "categRice = categoriesReplace(categRice)\n",
        "\n",
        "geo_rice = uniqueFactor(\"Geolocation\", categRice)\n",
        "stores_rice = uniqueFactor(\"Store Brand\", categRice)\n",
        "prod_rice = uniqueFactor(\"ProductBrand\", categRice)"
      ],
      "execution_count": 0,
      "outputs": []
    },
    {
      "metadata": {
        "id": "apZPd619G4uL",
        "colab_type": "code",
        "colab": {}
      },
      "cell_type": "code",
      "source": [
        "categMilk = milkDf \n",
        "categMilk = categoriesReplace(categMilk)\n",
        "\n",
        "geo_milk = uniqueFactor(\"Geolocation\", categMilk)\n",
        "stores_milk = uniqueFactor(\"Store Brand\", categMilk)\n",
        "prod_milk = uniqueFactor(\"ProductBrand\", categMilk)"
      ],
      "execution_count": 0,
      "outputs": []
    },
    {
      "metadata": {
        "id": "Nc9p3tvxGHaz",
        "colab_type": "code",
        "colab": {}
      },
      "cell_type": "code",
      "source": [
        "categButter = butterDf \n",
        "categButter = categoriesReplace(categButter)\n",
        "\n",
        "geo_butter = uniqueFactor(\"Geolocation\", categButter)\n",
        "stores_butter = uniqueFactor(\"Store Brand\", categButter)\n",
        "prod_butter = uniqueFactor(\"ProductBrand\", categButter)\n"
      ],
      "execution_count": 0,
      "outputs": []
    },
    {
      "metadata": {
        "id": "lxyECGAPGuFe",
        "colab_type": "code",
        "colab": {}
      },
      "cell_type": "code",
      "source": [
        "categEggs = eggsDf \n",
        "categEggs = categoriesReplace(categEggs)\n",
        "\n",
        "geo_eggs = uniqueFactor(\"Geolocation\", categEggs)\n",
        "stores_eggs = uniqueFactor(\"Store Brand\", categEggs)\n",
        "prod_eggs = uniqueFactor(\"ProductBrand\", categEggs)\n",
        "\n"
      ],
      "execution_count": 0,
      "outputs": []
    },
    {
      "metadata": {
        "id": "w7wXRjSsGuHr",
        "colab_type": "code",
        "colab": {}
      },
      "cell_type": "code",
      "source": [
        "categChicken_Breasts = chicken_breastsDf \n",
        "categChicken_Breasts = categoriesReplace(categChicken_Breasts)\n",
        "\n",
        "geo_chicken_breasts = uniqueFactor(\"Geolocation\", categChicken_Breasts)\n",
        "stores_chicken_breasts = uniqueFactor(\"Store Brand\", categChicken_Breasts)\n",
        "prod_chicken_breasts = uniqueFactor(\"ProductBrand\", categChicken_Breasts)"
      ],
      "execution_count": 0,
      "outputs": []
    },
    {
      "metadata": {
        "id": "b81kN5I2Axxu",
        "colab_type": "text"
      },
      "cell_type": "markdown",
      "source": [
        "\n",
        "\n",
        "---\n",
        "\n",
        "\n",
        "\n",
        "---\n",
        "\n",
        "# DIMENSIONALITY REDUCTION BY INFERRING AVERAGES\n",
        "\n",
        "---\n",
        "\n",
        "\n",
        "\n",
        "---\n",
        "\n",
        "\n",
        "\n",
        "Now to get averages from all data which will serve as the survey input.\n",
        "I am going to reshape the inputs to be on a scale to 1. This has been achieved by setting an norm flag that activates interpolation. You can turn it off by setting it to 0 to work with the raw averages This will allow me to assign the same multiplier accross different products since the price they bear will be on a common scale."
      ]
    },
    {
      "metadata": {
        "id": "7iVZ5dHbZ3XI",
        "colab_type": "code",
        "colab": {}
      },
      "cell_type": "code",
      "source": [
        "#The data had 9 different geolocation, 4 different store brands and 2 different product brand categories, ''branded; and 'non branded', dumbified as 1 and 0 \n",
        "#as a 'brand'. We will just correct this by ignoring It multiplier and setting it to 1\n",
        "numGeo, numStore,numProd = 9, 4, 2\n",
        "stores = []\n",
        "products = [prod_apples,prod_bananas, prod_tomatoes,prod_potatoes,prod_flour,prod_rice,\n",
        "            prod_milk,prod_butter,prod_eggs,prod_chicken_breasts]\n",
        "stores = [stores_apples,stores_bananas, stores_tomatoes,stores_potatoes,stores_flour,stores_rice,\n",
        "            stores_milk,stores_butter,stores_eggs,stores_chicken_breasts]\n",
        "\n",
        "geo = [geo_apples,geo_bananas, geo_tomatoes,geo_potatoes,geo_flour,geo_flour,geo_rice,\n",
        "            geo_milk,geo_butter,geo_eggs,geo_chicken_breasts]\n",
        "\n",
        "def survey_gen(numFacs,dataSet):\n",
        "  averages = []\n",
        "  for factor in range(1,numFacs+1):\n",
        "      averages.append(np.average(dataSet[factor].dropna()[\"Prices\"]))\n",
        "  return np.array(averages),np.array(np.round(np.array(averages)/np.sum(averages), 2)*100).astype(int)\n",
        "\n",
        "def survey_iter(numFac,fullData, norm = 1):\n",
        "  finalSurvey = []\n",
        "  for dataSet in fullData:\n",
        "    finalSurvey.append(survey_gen(numFac,dataSet)[norm])\n",
        "  return np.array(finalSurvey)\n",
        "main_data = {\n",
        "    \"Products\":survey_iter(numProd,  products, norm = 1),\n",
        "    \"Location\":survey_iter(numGeo,  geo, norm = 1),\n",
        "    \"Stores\":survey_iter(numStore,  stores, norm = 1)\n",
        "}\n",
        "raw_data = {\n",
        "    \"Products\":survey_iter(numProd,  products, norm = 0),\n",
        "    \"Location\":survey_iter(numGeo,  geo, norm = 0),\n",
        "    \"Stores\":survey_iter(numStore,  stores, norm = 0)\n",
        "}"
      ],
      "execution_count": 0,
      "outputs": []
    },
    {
      "metadata": {
        "id": "TMXSnMOHvqeV",
        "colab_type": "text"
      },
      "cell_type": "markdown",
      "source": [
        "\n",
        "\n",
        "---\n",
        "\n",
        "\n",
        "\n",
        "---\n",
        "\n",
        "# STAN MODEL\n",
        "\n",
        "---\n",
        "\n",
        "\n",
        "\n",
        "---\n",
        "\n",
        "\n",
        "Now that I have pretty much full stratification and a dimensionality reduction after splitting the prices by the affecting factors, let us begin the deep analysis using stan.\n"
      ]
    },
    {
      "metadata": {
        "id": "9i1sZuXCpZXY",
        "colab_type": "code",
        "colab": {
          "base_uri": "https://localhost:8080/",
          "height": 88
        },
        "outputId": "9d6d7c99-d355-41b5-f4ff-30960eaa91b0"
      },
      "cell_type": "code",
      "source": [
        "stan_code = '''\n",
        "data {\n",
        "    int S;  // Number of surveys: I will have this as 1 since we had just one result set for each data by factor\n",
        "    int C;  // This will be the number of unique factors eg for stores, we have EDEKA, Lidl, Aldi and Rewe\n",
        "    int survey_results[S, C];  //Price information for the various factors\n",
        "    real cauchy_location;  // Prior for Cauchy over alpha : A prior for our multipliers distribution\n",
        "    real cauchy_scale; \n",
        "}\n",
        "\n",
        "parameters {\n",
        "    vector<lower=0>[C] alpha;\n",
        "    simplex[C] p[S];  // One probability vector for each 'survey', in our case, each product price data\n",
        "}\n",
        "\n",
        "model {\n",
        "    alpha ~ cauchy(cauchy_location, cauchy_scale);\n",
        "    for (i in 1:S) {\n",
        "        p[i] ~ dirichlet(alpha);\n",
        "        survey_results[i] ~ multinomial(p[i]);\n",
        "    }\n",
        "}\n",
        "'''\n",
        "stan_model = pystan.StanModel(model_code=stan_code)"
      ],
      "execution_count": 263,
      "outputs": [
        {
          "output_type": "stream",
          "text": [
            "INFO:pystan:COMPILING THE C++ CODE FOR MODEL anon_model_d80525d69dcaf085f25008797ff803dc NOW.\n",
            "/usr/local/lib/python3.6/dist-packages/Cython/Compiler/Main.py:367: FutureWarning: Cython directive 'language_level' not set, using 2 for now (Py2). This will change in a later release! File: /tmp/tmp4au16wse/stanfit4anon_model_d80525d69dcaf085f25008797ff803dc_1648397554931427621.pyx\n",
            "  tree = Parsing.p_module(s, pxd, full_module_name)\n"
          ],
          "name": "stderr"
        }
      ]
    },
    {
      "metadata": {
        "id": "fE5hr0nNFbsR",
        "colab_type": "text"
      },
      "cell_type": "markdown",
      "source": [
        "\n",
        "\n",
        "---\n",
        "\n",
        "\n",
        "\n",
        "---\n",
        "\n",
        "# DISCUSSION: Why the model Choices and intuition.\n",
        "\n",
        "---\n",
        "\n",
        "\n",
        "\n",
        "---\n",
        "\n",
        "\n",
        "\n",
        "Here, I plot the various posterior distributions by products. To infer the posterior multiplier, I evaluated the ratio of the sample mean to the overall mean by product. This gives me a value centered at 1 that essentially captures the distortion relative to average. Note, the modelled data values were transformations. I wanted them in the range 0-1 so I divided everything by the total of the dataset. This was in line with the flip perspective I rolled with from above where I am modelling the chance that a given price will be made as per a given set of factors and subfactors. \n",
        "\n",
        "To facilitate class code reuse, I multiplied them by 100 after rounding the proportions to the nearest 2dp . This gave me integers that allowed me to scale the  survey_results vector similarly to the election data results like we did in class. I did this multiplication because I needed integers to keep consistent with the type declaration. Later on, I divide them by 100 again to get my proportions back. \n",
        "\n",
        "The multipliers were implied by the proportions of the prices thus a prior for the price proportions is inherently the prior for my multipliers.\n",
        "\n",
        "The posterior is the disribution of these chances of prices being charged by a store after we update the beliefs initiated by our prior given our data. I made use of a cauchy prior since I did not know the variance and expected value of the implied multipliers or the proportions themselves. Due to this, I needed it to be broad but centered around 1 thus the 1 location parameter. \n",
        "\n",
        "\n",
        "**My choice too go with the multinomial likelihood explained:**\n",
        "\n",
        "Given that I am thinking of chances of a price being for the different factors, I can think of this as trials.  The proportion of the  price average dictated by a factor is the chance of victory for that specific factor. 1-the proportion is the chance of loss, which is basically the chance that the price is dictated by the set of other factors. I though of the set up as being composed of **bernoulli tests where at each level we are looking at the probability of a given price being made by a specific factor**. from price charges. Given that we had multiple tests, it would only make sense to roll with a multinomial distribution.\n",
        "\n",
        "**DIrichlet distribution**\n",
        "I had too few surveys to generalzie the findings. I took inspiration from the election modelling again and used a dirichlet distriubution as a probability vector of the price proportions fed into my system. This gives me a probability distribution of simulated number of trials(ns) and price proportions(p) which I used as the parameters of my likelihood function. This is basically what was done in class and since I was trying to map my system directly, I figured it would still hold in my context especially if I made the data fed into the model dynamic.\n",
        "\n",
        "**Multinomial distribution**\n",
        "\n",
        "I also limited the outcomes to being binomial as per the stated criteria above.  I could have rolled with a binomial likelihood for brand data but given that some factors had more than 2 possible outcomes, eg stores where there were 4 stores to consider, I thus went with the multinomial. A binomial can afterall be though of a multinomial with only 2 possible outcomes.\n",
        "\n",
        "**Assumption**\n",
        "I made the assumption that each price proportion is independent of the rest. This is essentially saying the  price the market assigns a given factor subfactor is independent of the rest. While this is arguable, it is necessary for simplification.\n",
        ".\n",
        "\n",
        "**Acknowledgement**\n",
        "\n",
        "At this point, I want to acknowledge that thinking of price proportions as a probabilities is a bit of a fetch. I hope you consider my thought process too though and I would appreciate the feedback. This assignmment was extremely hard and I had to think through something that made any bit of sense and given the market argument, I could see how it made sense to see this system set up as vote surveys. \n",
        "\n",
        "\n",
        "\n",
        "**TLDR: Further atttempt to justify this set up as an election survey system: I also used this as a fallback to remind myself what I am doing**\n",
        "\n",
        "So with prices being influenced by the market, which is essentially the people. one can think of the prices people make the stores charge them through supply and demand as sort of votes. It does not directly translate to the value obtained being the probability of a user buying a product at the specified price like the election data outcome where the ouput was the chance a user would vote for the specified candidate. What it gives us is a proportion of the market price that the various products, location etc end up influencing relative to similarly pooled factors. Example, the proportion of the average price that Aldi prices dictate, the proportion of the same that Edeka prices dictate among others. In this regard, you can interprete the probability distribution of the price data proportions as the probability that the amount you paid is influenced by Edeka, or a location or a brand. So if I had a price factor of 0.4 for Edeka, If I end up paying 2.5eu, there ia 40% contribution to the price by Edeka. It is a bit far fetched, I know and totally understand if I end up with punishment because of this. But I rolled with it and did a back inference to try and see how the relative influence these different groups have compared to the average influence that a store would have. This would entail sampling from the posteriors, finding the mean of the samples, then expressing it as a ratio to the average price as per say the store, also expressed as a proportion. The values for different stores would center around the proportion of their average to the global average and this would be 1. Multiplying the individual product/brand/location multiplier would give you the expected price you would pay if you bought a product influenced by those criteria. "
      ]
    },
    {
      "metadata": {
        "id": "ulwo2_AXcv0a",
        "colab_type": "text"
      },
      "cell_type": "markdown",
      "source": [
        "**SIMULATION DATA: POSTERIOR SAMPLING AND MULTIPLIER INFERENCE**\n",
        "\n",
        "Below you will find plots of the posterior samples by product, by factor, by subfactor. You will also see the multipliers listed and the confidence intervals."
      ]
    },
    {
      "metadata": {
        "id": "amuGjG1KEyui",
        "colab_type": "code",
        "colab": {
          "base_uri": "https://localhost:8080/",
          "height": 2367
        },
        "outputId": "cb323632-1910-4117-ae4d-1fa7bb369dc5"
      },
      "cell_type": "code",
      "source": [
        "print(\"Our columns\")\n",
        "print(colCriteria)\n",
        "print('Posterior α samples and 95% confidence intervals for each Factor\\n')\n",
        "multipliers = {\"Products\":{}, \"Location\":{}, \"Stores\":{}}\n",
        "results = {}\n",
        "applesFactors = categApples\n",
        "factors = sorted(main_data.keys())\n",
        "for factor in factors:\n",
        "    print(\"*************************************************{} {} {}**********************************************************\".format(\"START OF\",factor,\"ANALYSIS\"))\n",
        "    data = {\n",
        "        'S': len(main_data[factor]),\n",
        "        'C': len(main_data[factor][0]),\n",
        "        'survey_results': main_data[factor],\n",
        "        'cauchy_location': 1,\n",
        "        'cauchy_scale': 1\n",
        "    }\n",
        "    #print(data)\n",
        "    results[factor] = stan_model.sampling(data=data)\n",
        "    samples = results[factor].extract()\n",
        "    # Divide them by 100 to counter the 100 division we did to make it work with the class model\n",
        "    samples[\"alpha\"] /=100.0\n",
        "    print(factor)\n",
        "    confints = np.percentile(samples['alpha'], [2.5, 97.5], axis=0)\n",
        "    means = list(np.average(samples['alpha'], axis=0))\n",
        "    overall = np.average(samples['alpha'])\n",
        "    multips = [np.round(list(means/overall)[i], 2)  for i in range(len(colCriteria[factor]))]\n",
        "    multipliers[factor] = dict([(list(colCriteria[factor])[i],multips[i]) for i in range(len(multips))])\n",
        "    print(\"Mean of the samples {}\".format(means))\n",
        "    print(\"The overall mean of the {} samples is {}\".format(factor,overall))\n",
        "    print(\"#############################################################################################\\n\")\n",
        "    combo =   [\"{}-Mult={}\".format(list(colCriteria[factor])[i], np.round(list(means/overall)[i], 2))  for i in range(len(colCriteria[factor]))]\n",
        "    if factor == \"Products\":\n",
        "      multipliers[factor][\"No Brand\"] = 1.0\n",
        "      combo[1] = \"No Brand-Mult=1.0\"\n",
        "    print(\"#############################################################################################\\n\")\n",
        "    print(\"These are the 95% confidence intervals \\n\")\n",
        "    confInts = pd.DataFrame(dict(list(enumerate(zip(confints[0],confints[1])))))\n",
        "    confInts.head()\n",
        "    plt.figure(figsize=(1+len(main_data[factor][0])*2,len(main_data[factor][0])))\n",
        "    for i in range(len(main_data[factor][0])):\n",
        "        plt.plot(stats.uniform.rvs(loc=i+1-0.1, scale=0.2, size=4000), samples['alpha'][:,i], ',', alpha=0.5)\n",
        "        plt.title(\"Plot of the posterior distribution over {}\".format(factor))\n",
        "        plt.xticks(range(len(main_data[factor][0])+1), [\"\"]+list(combo))\n",
        "    plt.show()\n",
        "    print(\"*************************************************{} {} {}**************************************************\".format(\"END OF\",factor,\"ANALYSIS\\n\\n\\n\"))"
      ],
      "execution_count": 273,
      "outputs": [
        {
          "output_type": "stream",
          "text": [
            "Our columns\n",
            "{'Stores': ['EDEKA', 'Lidl', 'ALDI', 'REWE'], 'Products': {'Branded', 'No Brand'}, 'Location': {'Friedrichshain', 'Schöneberg', 'Mitte', 'Alt Treptow', 'Lichtenberg', 'Kreuzberg', 'Tempelhof', 'Prenzlauer Berg', 'Neukölln'}}\n",
            "Posterior α samples and 95% confidence intervals for each Factor\n",
            "\n",
            "*************************************************START OF Location ANALYSIS**********************************************************\n",
            "{'S': 11, 'C': 9, 'survey_results': array([[11, 11, 11, 11, 12, 11,  9, 11, 12],\n",
            "       [12, 11, 11, 10, 10, 12, 10, 11, 11],\n",
            "       [14, 10, 13, 11, 11, 13,  6, 12, 10],\n",
            "       [ 8, 10,  9, 12,  9,  8, 20,  9, 13],\n",
            "       [10,  8, 13, 15,  9, 16,  4, 10, 15],\n",
            "       [10,  8, 13, 15,  9, 16,  4, 10, 15],\n",
            "       [14, 12, 13, 10,  7, 12,  9, 13,  9],\n",
            "       [11, 11, 12, 11,  9, 12,  9, 14, 11],\n",
            "       [12, 10, 11, 11, 15, 11, 10, 10, 11],\n",
            "       [13, 12, 13, 11, 10, 13,  6, 13, 10],\n",
            "       [13, 10, 13, 10,  9, 12, 15, 10,  8]]), 'cauchy_location': 1, 'cauchy_scale': 1}\n",
            "Location\n",
            "Mean of the samples [0.20352878138910044, 0.18023431933082112, 0.21120779938600098, 0.20158610526445947, 0.17454989955667943, 0.21637231253350583, 0.1570211804121066, 0.1958174070230479, 0.1981459165388169]\n",
            "The overall mean of the Location samples is 0.19316263571494882\n",
            "#############################################################################################\n",
            "\n",
            "#############################################################################################\n",
            "\n",
            "These are the 95% confidence intervals \n",
            "\n"
          ],
          "name": "stdout"
        },
        {
          "output_type": "display_data",
          "data": {
            "image/png": "[encoded data removed]",
            "text/plain": [
              "<matplotlib.figure.Figure at 0x7f9390cbbf28>"
            ]
          },
          "metadata": {
            "tags": []
          }
        },
        {
          "output_type": "stream",
          "text": [
            "*************************************************END OF Location ANALYSIS\n",
            "\n",
            "\n",
            "**************************************************\n",
            "*************************************************START OF Products ANALYSIS**********************************************************\n",
            "{'S': 10, 'C': 2, 'survey_results': array([[53, 47],\n",
            "       [60, 40],\n",
            "       [60, 40],\n",
            "       [51, 49],\n",
            "       [50, 50],\n",
            "       [59, 41],\n",
            "       [51, 49],\n",
            "       [52, 48],\n",
            "       [55, 45],\n",
            "       [44, 56]]), 'cauchy_location': 1, 'cauchy_scale': 1}\n"
          ],
          "name": "stdout"
        },
        {
          "output_type": "stream",
          "text": [
            "WARNING:pystan:192 of 4000 iterations ended with a divergence (4.8%).\n",
            "WARNING:pystan:Try running with adapt_delta larger than 0.8 to remove the divergences.\n"
          ],
          "name": "stderr"
        },
        {
          "output_type": "stream",
          "text": [
            "Products\n",
            "Mean of the samples [0.30756863372753374, 0.267525244473361]\n",
            "The overall mean of the Products samples is 0.28754693910044704\n",
            "#############################################################################################\n",
            "\n",
            "#############################################################################################\n",
            "\n",
            "These are the 95% confidence intervals \n",
            "\n"
          ],
          "name": "stdout"
        },
        {
          "output_type": "display_data",
          "data": {
            "image/png": "[encoded data removed]",
            "text/plain": [
              "<matplotlib.figure.Figure at 0x7f9390d5bc18>"
            ]
          },
          "metadata": {
            "tags": []
          }
        },
        {
          "output_type": "stream",
          "text": [
            "*************************************************END OF Products ANALYSIS\n",
            "\n",
            "\n",
            "**************************************************\n",
            "*************************************************START OF Stores ANALYSIS**********************************************************\n",
            "{'S': 10, 'C': 4, 'survey_results': array([[25, 24, 26, 25],\n",
            "       [28, 22, 23, 26],\n",
            "       [27, 24, 23, 26],\n",
            "       [26, 25, 25, 24],\n",
            "       [26, 22, 21, 32],\n",
            "       [35, 16, 16, 33],\n",
            "       [27, 24, 22, 27],\n",
            "       [25, 25, 28, 22],\n",
            "       [31, 20, 21, 28],\n",
            "       [31, 15, 23, 31]]), 'cauchy_location': 1, 'cauchy_scale': 1}\n"
          ],
          "name": "stdout"
        },
        {
          "output_type": "stream",
          "text": [
            "WARNING:pystan:5 of 4000 iterations ended with a divergence (0.125%).\n",
            "WARNING:pystan:Try running with adapt_delta larger than 0.8 to remove the divergences.\n"
          ],
          "name": "stderr"
        },
        {
          "output_type": "stream",
          "text": [
            "Stores\n",
            "Mean of the samples [0.3790839494892532, 0.29192349816185814, 0.3085787330568361, 0.3704509113221844]\n",
            "The overall mean of the Stores samples is 0.3375092730075323\n",
            "#############################################################################################\n",
            "\n",
            "#############################################################################################\n",
            "\n",
            "These are the 95% confidence intervals \n",
            "\n"
          ],
          "name": "stdout"
        },
        {
          "output_type": "display_data",
          "data": {
            "image/png": "[encoded data removed]",
            "text/plain": [
              "<matplotlib.figure.Figure at 0x7f938ff02cc0>"
            ]
          },
          "metadata": {
            "tags": []
          }
        },
        {
          "output_type": "stream",
          "text": [
            "*************************************************END OF Stores ANALYSIS\n",
            "\n",
            "\n",
            "**************************************************\n"
          ],
          "name": "stdout"
        }
      ]
    },
    {
      "metadata": {
        "id": "0yYJ6Gw3FT1I",
        "colab_type": "text"
      },
      "cell_type": "markdown",
      "source": [
        "\n",
        "\n",
        "\n",
        "---\n",
        "\n",
        "\n",
        "---\n",
        "\n",
        "# UTILITIES FOR INFERENCE\n",
        "\n",
        "---\n",
        "\n",
        "\n",
        "\n",
        "---\n",
        "\n",
        "\n",
        "\n",
        "I also created this function to give you a final price given the product brand.\n",
        "\n",
        "**UTILITY FORM: INPUT YOUR DATA TO GET AN EXPECTED PRICE ESTIMATE**"
      ]
    },
    {
      "metadata": {
        "id": "OYC25T0MFEwI",
        "colab_type": "code",
        "colab": {
          "base_uri": "https://localhost:8080/",
          "height": 105
        },
        "cellView": "both",
        "outputId": "5fb1aa1c-c950-4fc6-a80d-f7092ac20d85"
      },
      "cell_type": "code",
      "source": [
        "#@title Enter the following data to get a price estimate { vertical-output: true, form-width: \"50%\" }\n",
        "store = \"REWE\" #@param [\"ALDI\", \"Lidl\", \"REWE\", \"EDEKA\"]\n",
        "product = \"eggs\" #@param [\"apples\", \"bananas\", \"flour\", \"rice\", \"milk\", \"butter\", \"eggs\", \"chicken breasts\", \"tomatoes\", \"potatoes\"]\n",
        "location = \"Prenzlauer Berg\" #@param [\"Alt Treptow\", \"Friedrichshain\", \"Kreuzberg\", \"Lichtenberg\", \"Mitte\", \"Neuk\\xF6lln\", \"Prenzlauer Berg\", \"Sch\\xF6neberg\", \"Tempelhof\"]\n",
        "brand = \"Branded\" #@param [\"No Brand\", \"Branded\"]\n",
        "def priceGen(brand, store, location, product):\n",
        "  if location == \"Neuk\\\\xF6lln\":\n",
        "    location =\"Neukölln\"\n",
        "  if location == \"Sch\\\\xF6neberg\":\n",
        "    location =\"Schöneberg\"\n",
        "  \n",
        "  product = product.lower()\n",
        "  #I realized I must have failed to fix this and thus would mess my reference thus I just overwrote it here\n",
        "  if brand == \"No Brand\":\n",
        "    brandMult = 1.0\n",
        "  else:\n",
        "    brandMult = multipliers[\"Products\"][brand]\n",
        "  locMult = multipliers[\"Location\"][location]\n",
        "  storeMult = multipliers[\"Stores\"][store]\n",
        "  proDict = {\"apples\":0,\"bananas\":1,\"tomatoes\":2,\"potatoes\":3,\"flour\":4,\"rice\":5,\"milk\":6,\n",
        "             \"butter\":7,\"eggs\":8,\"chicken breasts\":9}\n",
        "  \n",
        "  prodId = proDict[product]\n",
        "  print(raw_data[\"Products\"][0])\n",
        "  avgPrice = np.average([np.average(raw_data[\"Products\"][prodId], axis = 0), np.average(raw_data[\"Location\"][prodId],axis = 0), np.average(raw_data[\"Stores\"][prodId], axis = 0)])\n",
        "  print(\"Multipliers you will use BRAND: {} LOCATION: {} STORE: {}\".format(brandMult, locMult, storeMult))\n",
        "  print(\"Average price for 1kg of {} is {} \".format(product,avgPrice))\n",
        "  return \"Expected price for your 1KG of {} {} at the {} store located in {} is {}.\".format(brand, product,store,location, brandMult*locMult*storeMult * avgPrice )\n",
        "\n",
        "priceGen(brand, store, location, product)"
      ],
      "execution_count": 275,
      "outputs": [
        {
          "output_type": "stream",
          "text": [
            "[2.34391566 2.03730769]\n",
            "Multipliers you will use BRAND: 1.07 LOCATION: 1.01 STORE: 1.1\n",
            "Average price for 1kg of eggs is 3.1230598433439396 \n"
          ],
          "name": "stdout"
        },
        {
          "output_type": "execute_result",
          "data": {
            "text/plain": [
              "'Expected price for your 1KG of Branded eggs at the REWE store located in Prenzlauer Berg is 3.7125998499719755.'"
            ]
          },
          "metadata": {
            "tags": []
          },
          "execution_count": 275
        }
      ]
    },
    {
      "metadata": {
        "id": "_6xyff1pxBFJ",
        "colab_type": "text"
      },
      "cell_type": "markdown",
      "source": [
        "**Basic Average Price For each Product (I just retrieved this from the form above):**\n",
        "\n",
        "*   RICE: 2.25242474083951 \n",
        "*   BANANAS: 1.4685830109526368\n",
        "*   TOMATOES: 3.3606291735715548 \n",
        "*   POTATOES: 1.4674559681668156 \n",
        "*   FLOUR: 1.0987810607879889\n",
        "*   RICE: 1.883569146193177\n",
        "*   MILK:  1.4870632589487078 \n",
        "*   BUTTER: 3.0772333033000243 \n",
        "*  EGGS: 3.1230598433439396 \n",
        "*   CHICKEN BREASTS : 8.283421359555492 \n",
        "\n"
      ]
    },
    {
      "metadata": {
        "id": "nMKZd9rOnFtr",
        "colab_type": "text"
      },
      "cell_type": "markdown",
      "source": [
        "**Magnitude of effect by brand, grocery store and Geographical Location.**\n",
        "\n",
        "To answer this, I just printed out the multipliers dictionary and included mapped it to the product ID/Store ID among others. It is inbuilt in the Utility form above."
      ]
    },
    {
      "metadata": {
        "id": "WvpQCcszoZgu",
        "colab_type": "text"
      },
      "cell_type": "markdown",
      "source": [
        "Products multipliers: The individual product brand affects the data as follows:"
      ]
    },
    {
      "metadata": {
        "id": "748phwi94DfQ",
        "colab_type": "code",
        "colab": {
          "base_uri": "https://localhost:8080/",
          "height": 328
        },
        "cellView": "both",
        "outputId": "79646dfb-ab32-497f-a3fe-6e37e8530560"
      },
      "cell_type": "code",
      "source": [
        "#@title Select a factor to see how much it affects the price { vertical-output: true, form-width: \"50%\" }\n",
        "factor = \"Location\" #@param [\"Location\", \"Stores\", \"Products\"]\n",
        "def multiPrinter(factor):\n",
        "  multiData = pd.DataFrame(multipliers)\n",
        "  multiData\n",
        "  return multiData.loc[multiData[factor].notnull()][[factor]]\n",
        " \n",
        "  \n",
        "multiPrinter(factor)"
      ],
      "execution_count": 278,
      "outputs": [
        {
          "output_type": "execute_result",
          "data": {
            "text/html": [
              "<div>\n",
              "<style scoped>\n",
              "    .dataframe tbody tr th:only-of-type {\n",
              "        vertical-align: middle;\n",
              "    }\n",
              "\n",
              "    .dataframe tbody tr th {\n",
              "        vertical-align: top;\n",
              "    }\n",
              "\n",
              "    .dataframe thead th {\n",
              "        text-align: right;\n",
              "    }\n",
              "</style>\n",
              "<table border=\"1\" class=\"dataframe\">\n",
              "  <thead>\n",
              "    <tr style=\"text-align: right;\">\n",
              "      <th></th>\n",
              "      <th>Location</th>\n",
              "    </tr>\n",
              "  </thead>\n",
              "  <tbody>\n",
              "    <tr>\n",
              "      <th>Alt Treptow</th>\n",
              "      <td>1.04</td>\n",
              "    </tr>\n",
              "    <tr>\n",
              "      <th>Friedrichshain</th>\n",
              "      <td>1.05</td>\n",
              "    </tr>\n",
              "    <tr>\n",
              "      <th>Kreuzberg</th>\n",
              "      <td>1.12</td>\n",
              "    </tr>\n",
              "    <tr>\n",
              "      <th>Lichtenberg</th>\n",
              "      <td>0.90</td>\n",
              "    </tr>\n",
              "    <tr>\n",
              "      <th>Mitte</th>\n",
              "      <td>1.09</td>\n",
              "    </tr>\n",
              "    <tr>\n",
              "      <th>Neukölln</th>\n",
              "      <td>1.03</td>\n",
              "    </tr>\n",
              "    <tr>\n",
              "      <th>Prenzlauer Berg</th>\n",
              "      <td>1.01</td>\n",
              "    </tr>\n",
              "    <tr>\n",
              "      <th>Schöneberg</th>\n",
              "      <td>0.93</td>\n",
              "    </tr>\n",
              "    <tr>\n",
              "      <th>Tempelhof</th>\n",
              "      <td>0.81</td>\n",
              "    </tr>\n",
              "  </tbody>\n",
              "</table>\n",
              "</div>"
            ],
            "text/plain": [
              "                 Location\n",
              "Alt Treptow          1.04\n",
              "Friedrichshain       1.05\n",
              "Kreuzberg            1.12\n",
              "Lichtenberg          0.90\n",
              "Mitte                1.09\n",
              "Neukölln             1.03\n",
              "Prenzlauer Berg      1.01\n",
              "Schöneberg           0.93\n",
              "Tempelhof            0.81"
            ]
          },
          "metadata": {
            "tags": []
          },
          "execution_count": 278
        }
      ]
    },
    {
      "metadata": {
        "id": "Lc8usNX2ojJp",
        "colab_type": "text"
      },
      "cell_type": "markdown",
      "source": [
        "Toggle the factor effect utility above for the magnitude of effect of the different factors and the several factor groups within them. The magnitude of effect is relative to 1: If it is greater than 1, it increases the price by a proportion equivalent to the multiplier. If less, it reduced it by the same factor.\n"
      ]
    },
    {
      "metadata": {
        "id": "65yol6b61KW8",
        "colab_type": "text"
      },
      "cell_type": "markdown",
      "source": [
        "**Does the price variation by Geographical location correlate witht he variation in rental prices in Berlin or not?**"
      ]
    },
    {
      "metadata": {
        "id": "AM2uULRp1ipt",
        "colab_type": "text"
      },
      "cell_type": "markdown",
      "source": [
        "YES!!! I was not so sure my results made sense until I did this analysis and the correlation is amazing! Mitte by the way is a broad area encompassing a number of districts so for Its price, I sampled from some of the areas within it to get the price.\n",
        "\n",
        "I went ahead and multipled my multipliers by the average price of the houses in the regions we were considering."
      ]
    },
    {
      "metadata": {
        "id": "RBNjuGi71hv4",
        "colab_type": "code",
        "colab": {
          "base_uri": "https://localhost:8080/",
          "height": 328
        },
        "outputId": "6cd7f79e-c0eb-49d6-841e-6202ee5d8347"
      },
      "cell_type": "code",
      "source": [
        "truePrices = [794, 774, 844,739,902,812,856,792,755]\n",
        "locMult = multiPrinter(\"Location\")\n",
        "locMult[\"Estimated Location Price(Euros)\"] = np.round(locMult[\"Location\"]*np.average(truePrices)*0.88,0).astype(int)\n",
        "locMult[\"Actual Location Price(Euros)\"] = truePrices\n",
        "locMult"
      ],
      "execution_count": 105,
      "outputs": [
        {
          "output_type": "execute_result",
          "data": {
            "text/html": [
              "<div>\n",
              "<style scoped>\n",
              "    .dataframe tbody tr th:only-of-type {\n",
              "        vertical-align: middle;\n",
              "    }\n",
              "\n",
              "    .dataframe tbody tr th {\n",
              "        vertical-align: top;\n",
              "    }\n",
              "\n",
              "    .dataframe thead th {\n",
              "        text-align: right;\n",
              "    }\n",
              "</style>\n",
              "<table border=\"1\" class=\"dataframe\">\n",
              "  <thead>\n",
              "    <tr style=\"text-align: right;\">\n",
              "      <th></th>\n",
              "      <th>Location</th>\n",
              "      <th>Estimated Location Price(Euros)</th>\n",
              "      <th>Actual Location Price(Euros)</th>\n",
              "    </tr>\n",
              "  </thead>\n",
              "  <tbody>\n",
              "    <tr>\n",
              "      <th>Alt Treptow</th>\n",
              "      <td>1.05</td>\n",
              "      <td>746</td>\n",
              "      <td>794</td>\n",
              "    </tr>\n",
              "    <tr>\n",
              "      <th>Friedrichshain</th>\n",
              "      <td>1.05</td>\n",
              "      <td>746</td>\n",
              "      <td>774</td>\n",
              "    </tr>\n",
              "    <tr>\n",
              "      <th>Kreuzberg</th>\n",
              "      <td>1.12</td>\n",
              "      <td>796</td>\n",
              "      <td>844</td>\n",
              "    </tr>\n",
              "    <tr>\n",
              "      <th>Lichtenberg</th>\n",
              "      <td>0.91</td>\n",
              "      <td>647</td>\n",
              "      <td>739</td>\n",
              "    </tr>\n",
              "    <tr>\n",
              "      <th>Mitte</th>\n",
              "      <td>1.09</td>\n",
              "      <td>775</td>\n",
              "      <td>902</td>\n",
              "    </tr>\n",
              "    <tr>\n",
              "      <th>Neukölln</th>\n",
              "      <td>1.03</td>\n",
              "      <td>732</td>\n",
              "      <td>812</td>\n",
              "    </tr>\n",
              "    <tr>\n",
              "      <th>Prenzlauer Berg</th>\n",
              "      <td>1.01</td>\n",
              "      <td>718</td>\n",
              "      <td>856</td>\n",
              "    </tr>\n",
              "    <tr>\n",
              "      <th>Schöneberg</th>\n",
              "      <td>0.93</td>\n",
              "      <td>661</td>\n",
              "      <td>792</td>\n",
              "    </tr>\n",
              "    <tr>\n",
              "      <th>Tempelhof</th>\n",
              "      <td>0.81</td>\n",
              "      <td>576</td>\n",
              "      <td>755</td>\n",
              "    </tr>\n",
              "  </tbody>\n",
              "</table>\n",
              "</div>"
            ],
            "text/plain": [
              "                 Location  Estimated Location Price(Euros)  \\\n",
              "Alt Treptow          1.05                              746   \n",
              "Friedrichshain       1.05                              746   \n",
              "Kreuzberg            1.12                              796   \n",
              "Lichtenberg          0.91                              647   \n",
              "Mitte                1.09                              775   \n",
              "Neukölln             1.03                              732   \n",
              "Prenzlauer Berg      1.01                              718   \n",
              "Schöneberg           0.93                              661   \n",
              "Tempelhof            0.81                              576   \n",
              "\n",
              "                 Actual Location Price(Euros)  \n",
              "Alt Treptow                               794  \n",
              "Friedrichshain                            774  \n",
              "Kreuzberg                                 844  \n",
              "Lichtenberg                               739  \n",
              "Mitte                                     902  \n",
              "Neukölln                                  812  \n",
              "Prenzlauer Berg                           856  \n",
              "Schöneberg                                792  \n",
              "Tempelhof                                 755  "
            ]
          },
          "metadata": {
            "tags": []
          },
          "execution_count": 105
        }
      ]
    },
    {
      "metadata": {
        "id": "95ZQcLl_-VKe",
        "colab_type": "text"
      },
      "cell_type": "markdown",
      "source": [
        "While they do not match up exactly, there is indeed a correlation. This scatterplot demonstrates this:"
      ]
    },
    {
      "metadata": {
        "id": "_DTibOxq-ftZ",
        "colab_type": "code",
        "colab": {
          "base_uri": "https://localhost:8080/",
          "height": 393
        },
        "outputId": "fdf04467-f895-4ded-9ab8-64e548206f9a"
      },
      "cell_type": "code",
      "source": [
        "plt.scatter(locMult[\"Location\"], truePrices)\n",
        "plt.xlabel(\"Rental Price\")\n",
        "plt.ylabel(\"Multiplier\")\n",
        "b, m = polyfit(locMult[\"Location\"], truePrices, 1)\n",
        "plt.plot(locMult[\"Location\"], b + m *locMult[\"Location\"] , '-')\n",
        "plt.title(\"Scatter plot of rental prices against multipliers\")\n",
        "print(\"There is clearly a positive correlation\")"
      ],
      "execution_count": 115,
      "outputs": [
        {
          "output_type": "stream",
          "text": [
            "There is clearly a positive correlation\n"
          ],
          "name": "stdout"
        },
        {
          "output_type": "display_data",
          "data": {
            "image/png": "[encoded data removed]",
            "text/plain": [
              "<matplotlib.figure.Figure at 0x7f9392423048>"
            ]
          },
          "metadata": {
            "tags": []
          }
        }
      ]
    },
    {
      "metadata": {
        "id": "FK2_Bgil7vZt",
        "colab_type": "text"
      },
      "cell_type": "markdown",
      "source": [
        "\n",
        "\n",
        "---\n",
        "\n",
        "\n",
        "\n",
        "---\n",
        "\n",
        "# METADATA\n",
        "\n",
        "---\n",
        "\n",
        "\n",
        "\n",
        "---\n",
        "\n"
      ]
    },
    {
      "metadata": {
        "id": "_-lSSHPC6Mrl",
        "colab_type": "text"
      },
      "cell_type": "markdown",
      "source": [
        "###[ALDI: Invalidenstraße 59, 17:30, 11/06/2018]\n",
        "![ALDI: Invalidenstraße 59, 17:30, 11/06/2018](https://raw.githubusercontent.com/GitWahome/LBA-CS146/master/AldiInvaliden.png)\n",
        "\n",
        "\n",
        "---\n",
        "\n",
        "###[REWE: Schonhauser Allee 36-39, 10:00, 11/8/2018]\n",
        "![REWE: Schonhauser Allee 36-39, 10:00, 11/8/2018](https://raw.githubusercontent.com/GitWahome/LBA-CS146/master/Rewe.png)"
      ]
    },
    {
      "metadata": {
        "id": "Hsqm_6eb1L0u",
        "colab_type": "text"
      },
      "cell_type": "markdown",
      "source": [
        "\n",
        "\n",
        "---\n",
        "\n",
        "\n",
        "\n",
        "---\n",
        "\n",
        "\n",
        "# THE END. Danke Schoen\n",
        "\n",
        "\n",
        "---\n",
        "\n",
        "\n",
        "\n",
        "---\n",
        "\n"
      ]
    }
  ]
}